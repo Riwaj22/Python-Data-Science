{
 "cells": [
  {
   "cell_type": "code",
   "execution_count": null,
   "id": "6a382346",
   "metadata": {},
   "outputs": [],
   "source": [
    " pip install pandas-datareader"
   ]
  },
  {
   "cell_type": "code",
   "execution_count": null,
   "id": "6fbd1239",
   "metadata": {},
   "outputs": [],
   "source": [
    "from pandas_datareader import data,wb\n",
    "import pandas as pd\n",
    "import numpy as np\n",
    "import datetime\n",
    "%matplotlib inline"
   ]
  },
  {
   "cell_type": "code",
   "execution_count": null,
   "id": "71724f15",
   "metadata": {},
   "outputs": [],
   "source": [
    "start = datetime.datetime(2006,1,1)"
   ]
  },
  {
   "cell_type": "code",
   "execution_count": null,
   "id": "b4f5e3c4",
   "metadata": {},
   "outputs": [],
   "source": [
    "end = datetime.datetime(2016,1,1)"
   ]
  },
  {
   "cell_type": "code",
   "execution_count": null,
   "id": "b1551015",
   "metadata": {},
   "outputs": [],
   "source": [
    "BAC = data.DataReader('BAC','yahoo',start,end)"
   ]
  },
  {
   "cell_type": "code",
   "execution_count": null,
   "id": "7145e109",
   "metadata": {},
   "outputs": [],
   "source": [
    "BAC"
   ]
  },
  {
   "cell_type": "code",
   "execution_count": null,
   "id": "47d4fd77",
   "metadata": {},
   "outputs": [],
   "source": [
    "BAC = data.DataReader('BAC','yahoo',start,end)"
   ]
  },
  {
   "cell_type": "code",
   "execution_count": null,
   "id": "1f1037c8",
   "metadata": {},
   "outputs": [],
   "source": [
    "C = data.DataReader('BAC','yahoo',start,end)"
   ]
  },
  {
   "cell_type": "code",
   "execution_count": null,
   "id": "a3dfa7cd",
   "metadata": {},
   "outputs": [],
   "source": [
    "GS = data.DataReader('BAC','yahoo',start,end)"
   ]
  },
  {
   "cell_type": "code",
   "execution_count": null,
   "id": "15fc1c1b",
   "metadata": {},
   "outputs": [],
   "source": [
    "JPM = data.DataReader('BAC','yahoo',start,end)"
   ]
  },
  {
   "cell_type": "code",
   "execution_count": null,
   "id": "bdeda431",
   "metadata": {},
   "outputs": [],
   "source": [
    "MS = data.DataReader('BAC','yahoo',start,end)"
   ]
  },
  {
   "cell_type": "code",
   "execution_count": null,
   "id": "22ed03d5",
   "metadata": {},
   "outputs": [],
   "source": [
    "WFC = data.DataReader('BAC','yahoo',start,end)"
   ]
  },
  {
   "cell_type": "code",
   "execution_count": null,
   "id": "3991cf8b",
   "metadata": {},
   "outputs": [],
   "source": [
    "frames = ['BAC','C','GS','JPM','MS','WFC']"
   ]
  },
  {
   "cell_type": "code",
   "execution_count": null,
   "id": "80338cb0",
   "metadata": {},
   "outputs": [],
   "source": [
    "bank_stocks = pd.concat([BAC,C,GS,JPM,MS,WFC],axis=1,keys=frames)"
   ]
  },
  {
   "cell_type": "code",
   "execution_count": null,
   "id": "332fd72b",
   "metadata": {},
   "outputs": [],
   "source": [
    "bank_stocks\n"
   ]
  },
  {
   "cell_type": "code",
   "execution_count": null,
   "id": "0a60b733",
   "metadata": {},
   "outputs": [],
   "source": [
    "bank_stocks.columns.names = ['Bank Ticker','Stock Info']\n"
   ]
  },
  {
   "cell_type": "code",
   "execution_count": null,
   "id": "28d61a6d",
   "metadata": {},
   "outputs": [],
   "source": [
    "bank_stocks.head()"
   ]
  },
  {
   "cell_type": "code",
   "execution_count": null,
   "id": "00e7a38d",
   "metadata": {},
   "outputs": [],
   "source": [
    "bank_stocks.xs(key='Close',axis=1,level='Stock Info').max()"
   ]
  },
  {
   "cell_type": "code",
   "execution_count": null,
   "id": "3a3162b4",
   "metadata": {},
   "outputs": [],
   "source": [
    "returns = pd.DataFrame()"
   ]
  },
  {
   "cell_type": "raw",
   "id": "3256f09f",
   "metadata": {},
   "source": [
    "        retu\n",
    "        \n",
    "        "
   ]
  },
  {
   "cell_type": "code",
   "execution_count": null,
   "id": "4cda8a5f",
   "metadata": {},
   "outputs": [],
   "source": [
    "returns"
   ]
  },
  {
   "cell_type": "code",
   "execution_count": null,
   "id": "1cc9e384",
   "metadata": {},
   "outputs": [],
   "source": [
    "for item in frames:\n",
    "    returns[item+'Return']=bank_stocks[item]['Close'].pct_change()"
   ]
  },
  {
   "cell_type": "code",
   "execution_count": null,
   "id": "33b7218a",
   "metadata": {},
   "outputs": [],
   "source": [
    "returns.head(6)"
   ]
  },
  {
   "cell_type": "code",
   "execution_count": null,
   "id": "a5062730",
   "metadata": {},
   "outputs": [],
   "source": [
    "import seaborn as sns"
   ]
  },
  {
   "cell_type": "code",
   "execution_count": null,
   "id": "227b0408",
   "metadata": {},
   "outputs": [],
   "source": [
    "sns.pairplot(returns[1:])"
   ]
  },
  {
   "cell_type": "code",
   "execution_count": null,
   "id": "453f9b7a",
   "metadata": {},
   "outputs": [],
   "source": [
    "returns.head()"
   ]
  },
  {
   "cell_type": "code",
   "execution_count": null,
   "id": "360baaec",
   "metadata": {},
   "outputs": [],
   "source": [
    "returns.idxmin()"
   ]
  },
  {
   "cell_type": "code",
   "execution_count": null,
   "id": "366f652c",
   "metadata": {},
   "outputs": [],
   "source": [
    "returns.idxmax()"
   ]
  },
  {
   "cell_type": "code",
   "execution_count": null,
   "id": "ff3d9e71",
   "metadata": {},
   "outputs": [],
   "source": [
    "returns.std()"
   ]
  },
  {
   "cell_type": "code",
   "execution_count": null,
   "id": "a2733332",
   "metadata": {},
   "outputs": [],
   "source": [
    "returns.head()"
   ]
  },
  {
   "cell_type": "code",
   "execution_count": null,
   "id": "25af6225",
   "metadata": {},
   "outputs": [],
   "source": [
    "returns.columns(da)"
   ]
  },
  {
   "cell_type": "code",
   "execution_count": null,
   "id": "27895c44",
   "metadata": {},
   "outputs": [],
   "source": []
  },
  {
   "cell_type": "code",
   "execution_count": null,
   "id": "de279941",
   "metadata": {},
   "outputs": [],
   "source": [
    "sns.distplot(returns.loc['2015-01-01' : '2015-12-12']['MSReturn'],color='green')"
   ]
  },
  {
   "cell_type": "code",
   "execution_count": null,
   "id": "534468cc",
   "metadata": {},
   "outputs": [],
   "source": [
    "returns.ix"
   ]
  },
  {
   "cell_type": "raw",
   "id": "e2f8cc8b",
   "metadata": {},
   "source": [
    "sns.displot(returns.loc['2008-01-01' : '2008-12-12']['CReturn'])"
   ]
  },
  {
   "cell_type": "code",
   "execution_count": null,
   "id": "643e9306",
   "metadata": {},
   "outputs": [],
   "source": [
    "sns.distplot(returns.loc['2008-01-01' : '2008-12-12']['CReturn'],color='red',bins=30)"
   ]
  },
  {
   "cell_type": "code",
   "execution_count": null,
   "id": "7ef961a3",
   "metadata": {},
   "outputs": [],
   "source": [
    "sns.set_style('whitegrid')"
   ]
  },
  {
   "cell_type": "code",
   "execution_count": null,
   "id": "4bd4514a",
   "metadata": {},
   "outputs": [],
   "source": [
    "import cufflinks as cf\n",
    "import plotly as plt"
   ]
  },
  {
   "cell_type": "code",
   "execution_count": null,
   "id": "f82b9890",
   "metadata": {},
   "outputs": [],
   "source": [
    "pip install cufflinks"
   ]
  },
  {
   "cell_type": "code",
   "execution_count": null,
   "id": "8103a783",
   "metadata": {},
   "outputs": [],
   "source": [
    "for item in frames:\n",
    "    bank_stocks[item]['Close'].plot(label=item,figsize=(12,4))\n",
    "   \n",
    "    "
   ]
  },
  {
   "cell_type": "code",
   "execution_count": null,
   "id": "4903d6a8",
   "metadata": {},
   "outputs": [],
   "source": []
  },
  {
   "cell_type": "code",
   "execution_count": null,
   "id": "30fc321f",
   "metadata": {},
   "outputs": [],
   "source": []
  },
  {
   "cell_type": "code",
   "execution_count": null,
   "id": "8b322412",
   "metadata": {},
   "outputs": [],
   "source": []
  },
  {
   "cell_type": "code",
   "execution_count": null,
   "id": "21d2ca77",
   "metadata": {},
   "outputs": [],
   "source": [
    "BAC['Close'].loc['2008-01-01':'2009-01-01'].rolling(window=30).mean().plot()"
   ]
  },
  {
   "cell_type": "code",
   "execution_count": 116,
   "id": "9442adb5",
   "metadata": {},
   "outputs": [
    {
     "data": {
      "text/plain": [
       "<AxesSubplot:xlabel='Bank Ticker', ylabel='Bank Ticker'>"
      ]
     },
     "execution_count": 116,
     "metadata": {},
     "output_type": "execute_result"
    },
    {
     "data": {
      "image/png": "[encoded data removed]",
      "text/plain": [
       "<Figure size 432x288 with 2 Axes>"
      ]
     },
     "metadata": {},
     "output_type": "display_data"
    }
   ],
   "source": [
    "sns.heatmap(\n",
    "bank_stocks.xs(key = 'Close',axis =1, level='Stock Info').corr(),annot=True\n",
    ")"
   ]
  },
  {
   "cell_type": "code",
   "execution_count": null,
   "id": "758ac8b4",
   "metadata": {},
   "outputs": [],
   "source": []
  }
 ],
 "metadata": {
  "kernelspec": {
   "display_name": "Python 3 (ipykernel)",
   "language": "python",
   "name": "python3"
  },
  "language_info": {
   "codemirror_mode": {
    "name": "ipython",
    "version": 3
   },
   "file_extension": ".py",
   "mimetype": "text/x-python",
   "name": "python",
   "nbconvert_exporter": "python",
   "pygments_lexer": "ipython3",
   "version": "3.9.12"
  }
 },
 "nbformat": 4,
 "nbformat_minor": 5
}
